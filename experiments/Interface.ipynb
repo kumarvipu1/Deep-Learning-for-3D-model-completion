{
  "cells": [
    {
      "cell_type": "code",
      "execution_count": 1,
      "metadata": {
        "id": "2mREpahnIyY9"
      },
      "outputs": [],
      "source": [
        "import numpy as np\n",
        "import tensorflow as tf\n",
        "import pickle\n",
        "from tensorflow.keras.layers import (Conv1D, Dense, Flatten, Reshape)\n",
        "from tensorflow.keras.models import Model\n",
        "from tensorflow.keras import backend as K"
      ]
    },
    {
      "cell_type": "code",
      "source": [
        "!pip3 install pickle5"
      ],
      "metadata": {
        "colab": {
          "base_uri": "https://localhost:8080/"
        },
        "id": "wRfQBxKeOzTJ",
        "outputId": "09446695-fdf1-4d29-8982-7bf89d9b8571"
      },
      "execution_count": 2,
      "outputs": [
        {
          "output_type": "stream",
          "name": "stdout",
          "text": [
            "Collecting pickle5\n",
            "  Downloading pickle5-0.0.12-cp37-cp37m-manylinux_2_5_x86_64.manylinux1_x86_64.whl (256 kB)\n",
            "\u001b[?25l\r\u001b[K     |█▎                              | 10 kB 9.4 MB/s eta 0:00:01\r\u001b[K     |██▋                             | 20 kB 7.3 MB/s eta 0:00:01\r\u001b[K     |███▉                            | 30 kB 5.7 MB/s eta 0:00:01\r\u001b[K     |█████▏                          | 40 kB 3.5 MB/s eta 0:00:01\r\u001b[K     |██████▍                         | 51 kB 3.9 MB/s eta 0:00:01\r\u001b[K     |███████▊                        | 61 kB 4.2 MB/s eta 0:00:01\r\u001b[K     |█████████                       | 71 kB 4.2 MB/s eta 0:00:01\r\u001b[K     |██████████▎                     | 81 kB 4.7 MB/s eta 0:00:01\r\u001b[K     |███████████▌                    | 92 kB 4.6 MB/s eta 0:00:01\r\u001b[K     |████████████▉                   | 102 kB 4.0 MB/s eta 0:00:01\r\u001b[K     |██████████████                  | 112 kB 4.0 MB/s eta 0:00:01\r\u001b[K     |███████████████▍                | 122 kB 4.0 MB/s eta 0:00:01\r\u001b[K     |████████████████▋               | 133 kB 4.0 MB/s eta 0:00:01\r\u001b[K     |██████████████████              | 143 kB 4.0 MB/s eta 0:00:01\r\u001b[K     |███████████████████▏            | 153 kB 4.0 MB/s eta 0:00:01\r\u001b[K     |████████████████████▌           | 163 kB 4.0 MB/s eta 0:00:01\r\u001b[K     |█████████████████████▊          | 174 kB 4.0 MB/s eta 0:00:01\r\u001b[K     |███████████████████████         | 184 kB 4.0 MB/s eta 0:00:01\r\u001b[K     |████████████████████████▎       | 194 kB 4.0 MB/s eta 0:00:01\r\u001b[K     |█████████████████████████▋      | 204 kB 4.0 MB/s eta 0:00:01\r\u001b[K     |██████████████████████████▉     | 215 kB 4.0 MB/s eta 0:00:01\r\u001b[K     |████████████████████████████▏   | 225 kB 4.0 MB/s eta 0:00:01\r\u001b[K     |█████████████████████████████▍  | 235 kB 4.0 MB/s eta 0:00:01\r\u001b[K     |██████████████████████████████▊ | 245 kB 4.0 MB/s eta 0:00:01\r\u001b[K     |████████████████████████████████| 256 kB 4.0 MB/s eta 0:00:01\r\u001b[K     |████████████████████████████████| 256 kB 4.0 MB/s \n",
            "\u001b[?25hInstalling collected packages: pickle5\n",
            "Successfully installed pickle5-0.0.12\n"
          ]
        }
      ]
    },
    {
      "cell_type": "code",
      "source": [
        "import pickle5"
      ],
      "metadata": {
        "id": "KK7o4rVKO3Jf"
      },
      "execution_count": 3,
      "outputs": []
    },
    {
      "cell_type": "code",
      "source": [
        "from google.colab import drive\n",
        "drive.mount('/content/drive')"
      ],
      "metadata": {
        "colab": {
          "base_uri": "https://localhost:8080/"
        },
        "id": "YUI8GaCYOXDq",
        "outputId": "42fff792-2cda-40ed-8b3f-c5dc4627aea8"
      },
      "execution_count": 4,
      "outputs": [
        {
          "output_type": "stream",
          "name": "stdout",
          "text": [
            "Mounted at /content/drive\n"
          ]
        }
      ]
    },
    {
      "cell_type": "code",
      "execution_count": 5,
      "metadata": {
        "id": "lCGkhJvGIyZF"
      },
      "outputs": [],
      "source": [
        "# importing dataset\n",
        "ds = '/content/drive/MyDrive/pcd_dataset.pickle'"
      ]
    },
    {
      "cell_type": "code",
      "execution_count": 6,
      "metadata": {
        "id": "ZAP-ZPb7IyZH"
      },
      "outputs": [],
      "source": [
        "infile = open(ds,'rb')\n",
        "dataset = pickle5.load(infile)\n",
        "infile.close()"
      ]
    },
    {
      "cell_type": "code",
      "execution_count": 7,
      "metadata": {
        "id": "pqA8VKJTIyZI"
      },
      "outputs": [],
      "source": [
        "input = np.array(dataset['Y'])\n",
        "gt = np.array(dataset['X'])"
      ]
    },
    {
      "cell_type": "code",
      "execution_count": 8,
      "metadata": {
        "id": "j4-v7e0uIyZK"
      },
      "outputs": [],
      "source": [
        "class EncoderDecoder(Model):\n",
        "    def __init__(self):\n",
        "        super(EncoderDecoder, self).__init__()\n",
        "        self.encoder = tf.keras.Sequential([\n",
        "            Conv1D(128, kernel_size=1),\n",
        "            Conv1D(256, kernel_size=1),\n",
        "            Conv1D(512, kernel_size=1),\n",
        "            #Conv1D(1000, kernel_size=1),\n",
        "            Flatten(),\n",
        "            Dense(1000)\n",
        "        ])\n",
        "        self.decoder = tf.keras.Sequential([\n",
        "            Dense(1000, activation=None),\n",
        "            Dense(1000, activation=None),\n",
        "            Dense(2000*3, activation=None),\n",
        "            Reshape((2000, 3))\n",
        "        ])\n",
        "\n",
        "    def call(self, x):\n",
        "        encoded = self.encoder(x)\n",
        "        decoded = self.decoder(encoded)\n",
        "        return decoded"
      ]
    },
    {
      "cell_type": "code",
      "source": [
        "def euc_dist_keras(y_true, y_pred):\n",
        "    return K.sqrt(K.sum(K.square(y_true - y_pred), axis=-1, keepdims=True))"
      ],
      "metadata": {
        "id": "uBT2V5pusP0d"
      },
      "execution_count": 9,
      "outputs": []
    },
    {
      "cell_type": "code",
      "execution_count": 10,
      "metadata": {
        "id": "liaJ6iNWIyZP"
      },
      "outputs": [],
      "source": [
        "model1 = EncoderDecoder()"
      ]
    },
    {
      "cell_type": "code",
      "execution_count": 11,
      "metadata": {
        "id": "RkEuyBiBIyZQ"
      },
      "outputs": [],
      "source": [
        "model1.compile(optimizer='adam', loss=euc_dist_keras, metrics = ['accuracy'])"
      ]
    },
    {
      "cell_type": "code",
      "source": [
        "!pip install livelossplot"
      ],
      "metadata": {
        "id": "k4aD0vHKJwRt"
      },
      "execution_count": null,
      "outputs": []
    },
    {
      "cell_type": "code",
      "source": [
        "from tensorflow.keras.callbacks import ModelCheckpoint,EarlyStopping\n",
        "from livelossplot.tf_keras import PlotLossesCallback"
      ],
      "metadata": {
        "id": "iYWz0twFJxU_"
      },
      "execution_count": 13,
      "outputs": []
    },
    {
      "cell_type": "code",
      "source": [
        "def train_model(X, y, model, numEpoch, nameFile):\n",
        "    early_stopping = EarlyStopping(monitor='val_loss',\n",
        "                                   patience=25, verbose=0, mode='min',\n",
        "                                   restore_best_weights= True)\n",
        "    callbacks = [PlotLossesCallback(), early_stopping]\n",
        "    hist = model.fit(X, y, batch_size=32, verbose=1, epochs=numEpoch, validation_split=0.2, \n",
        "                    callbacks = callbacks)\n",
        "    model.save_weights(nameFile, save_format='h5')\n",
        "    return hist"
      ],
      "metadata": {
        "id": "chCLQ0r6JznI"
      },
      "execution_count": 14,
      "outputs": []
    },
    {
      "cell_type": "code",
      "execution_count": 15,
      "metadata": {
        "colab": {
          "base_uri": "https://localhost:8080/",
          "height": 677
        },
        "id": "7nwoShjcIyZR",
        "outputId": "edbb952a-0a8f-4a4a-ce7a-e20a639a112f"
      },
      "outputs": [
        {
          "output_type": "display_data",
          "data": {
            "image/png": "[encoded data removed]",
            "text/plain": [
              "<Figure size 864x576 with 2 Axes>"
            ]
          },
          "metadata": {
            "needs_background": "light"
          }
        },
        {
          "output_type": "stream",
          "name": "stdout",
          "text": [
            "accuracy\n",
            "\ttraining         \t (min:    0.380, max:    0.672, cur:    0.672)\n",
            "\tvalidation       \t (min:    0.329, max:    0.654, cur:    0.643)\n",
            "Loss\n",
            "\ttraining         \t (min:    0.283, max:  334.446, cur:    0.283)\n",
            "\tvalidation       \t (min:    0.302, max:  271.193, cur:    0.318)\n",
            "120/120 [==============================] - 10s 85ms/step - loss: 0.2827 - accuracy: 0.6716 - val_loss: 0.3176 - val_accuracy: 0.6426\n"
          ]
        },
        {
          "output_type": "execute_result",
          "data": {
            "text/plain": [
              "<keras.callbacks.History at 0x7ff4d03a5610>"
            ]
          },
          "metadata": {},
          "execution_count": 15
        }
      ],
      "source": [
        "train_model(input, gt, model1, 100, '/content/drive/MyDrive/modelSaved')"
      ]
    },
    {
      "cell_type": "code",
      "source": [
        "!pip install open3d"
      ],
      "metadata": {
        "id": "9M845Qi4_kNU"
      },
      "execution_count": null,
      "outputs": []
    },
    {
      "cell_type": "code",
      "source": [
        "import open3d as o3d"
      ],
      "metadata": {
        "id": "wQVbs66_DQyQ"
      },
      "execution_count": 19,
      "outputs": []
    },
    {
      "cell_type": "code",
      "source": [
        "#inference\n",
        "def inferr(model, weight, inference_file):\n",
        "  mesh = o3d.io.read_triangle_mesh(inference_file)\n",
        "  pcd = mesh.sample_points_uniformly(number_of_points = 1000)\n",
        "  pcd_array = np.asarray(pcd.points)\n",
        "  model.load_weights(weight)\n",
        "  pcd_input = np.expand_dims(pcd_array, axis=0)\n",
        "  predicted_array = model.predict()\n",
        "  output = predicted_array[0]\n",
        "  pcd_output = o3d.o3d.geometry.PointCloud()\n",
        "  pcd_output = o3d.utility.Vector3dVector(output)\n",
        "  o3d.io.write_point_cloud(\"output.ply\", pcd)\n",
        "  radii = [0.005, 0.01, 0.02, 0.04]\n",
        "  rec_mesh = o3d.geometry.TriangleMesh.create_from_point_cloud_ball_pivoting(\n",
        "    pcd_output, o3d.utility.DoubleVector(radii))\n",
        "  o3d.io.write_triangle_mesh(\"copy_of_knot.obj\", rec_mesh)\n",
        "  return pcd_output, rec_mesh"
      ],
      "metadata": {
        "id": "6OCYABqmLmYw"
      },
      "execution_count": 18,
      "outputs": []
    },
    {
      "cell_type": "code",
      "source": [
        ""
      ],
      "metadata": {
        "colab": {
          "base_uri": "https://localhost:8080/",
          "height": 295
        },
        "id": "MIbSyL2SLD5y",
        "outputId": "0bdf9ce3-278a-4b35-aafe-51371bded2bb"
      },
      "execution_count": 21,
      "outputs": [
        {
          "output_type": "error",
          "ename": "NotImplementedError",
          "evalue": "ignored",
          "traceback": [
            "\u001b[0;31m---------------------------------------------------------------------------\u001b[0m",
            "\u001b[0;31mNotImplementedError\u001b[0m                       Traceback (most recent call last)",
            "\u001b[0;32m<ipython-input-21-b3e0c13f48b7>\u001b[0m in \u001b[0;36m<module>\u001b[0;34m()\u001b[0m\n\u001b[0;32m----> 1\u001b[0;31m \u001b[0mconfig\u001b[0m \u001b[0;34m=\u001b[0m \u001b[0mmodel\u001b[0m\u001b[0;34m.\u001b[0m\u001b[0mget_config\u001b[0m\u001b[0;34m(\u001b[0m\u001b[0;34m)\u001b[0m\u001b[0;34m\u001b[0m\u001b[0;34m\u001b[0m\u001b[0m\n\u001b[0m",
            "\u001b[0;32m/usr/local/lib/python3.7/dist-packages/keras/engine/training.py\u001b[0m in \u001b[0;36mget_config\u001b[0;34m(self)\u001b[0m\n\u001b[1;32m   2435\u001b[0m \u001b[0;34m\u001b[0m\u001b[0m\n\u001b[1;32m   2436\u001b[0m   \u001b[0;32mdef\u001b[0m \u001b[0mget_config\u001b[0m\u001b[0;34m(\u001b[0m\u001b[0mself\u001b[0m\u001b[0;34m)\u001b[0m\u001b[0;34m:\u001b[0m\u001b[0;34m\u001b[0m\u001b[0;34m\u001b[0m\u001b[0m\n\u001b[0;32m-> 2437\u001b[0;31m     \u001b[0;32mraise\u001b[0m \u001b[0mNotImplementedError\u001b[0m\u001b[0;34m\u001b[0m\u001b[0;34m\u001b[0m\u001b[0m\n\u001b[0m\u001b[1;32m   2438\u001b[0m \u001b[0;34m\u001b[0m\u001b[0m\n\u001b[1;32m   2439\u001b[0m   \u001b[0;34m@\u001b[0m\u001b[0mclassmethod\u001b[0m\u001b[0;34m\u001b[0m\u001b[0;34m\u001b[0m\u001b[0m\n",
            "\u001b[0;31mNotImplementedError\u001b[0m: "
          ]
        }
      ]
    }
  ],
  "metadata": {
    "kernelspec": {
      "display_name": "Python 3",
      "language": "python",
      "name": "python3"
    },
    "language_info": {
      "codemirror_mode": {
        "name": "ipython",
        "version": 3
      },
      "file_extension": ".py",
      "mimetype": "text/x-python",
      "name": "python",
      "nbconvert_exporter": "python",
      "pygments_lexer": "ipython3",
      "version": "3.8.5"
    },
    "colab": {
      "name": "Interface.ipynb",
      "provenance": [],
      "machine_shape": "hm"
    },
    "accelerator": "GPU"
  },
  "nbformat": 4,
  "nbformat_minor": 0
}