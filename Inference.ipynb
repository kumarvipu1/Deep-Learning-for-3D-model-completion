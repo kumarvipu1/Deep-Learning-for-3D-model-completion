{
 "cells": [
  {
   "cell_type": "code",
   "execution_count": 1,
   "metadata": {},
   "outputs": [],
   "source": [
    "from finalmodel import EncoderDecoder\n",
    "from utils import euc_dist_keras\n",
    "import pickle\n",
    "import numpy as np\n",
    "import open3d as o3d"
   ]
  },
  {
   "cell_type": "code",
   "execution_count": 2,
   "metadata": {},
   "outputs": [],
   "source": [
    "model = EncoderDecoder()\n",
    "model.compile(optimizer='adam', loss=euc_dist_keras, metrics = ['accuracy'])"
   ]
  },
  {
   "cell_type": "code",
   "execution_count": null,
   "metadata": {},
   "outputs": [],
   "source": [
    "def inferr(model, weight, inference_file):\n",
    "    \n",
    "    mesh = o3d.io.read_triangle_mesh(inference_file)\n",
    "    pcd = mesh.sample_points_uniformly(number_of_points = 1000)\n",
    "    pcd_array = np.asarray(pcd.points)\n",
    "    model.build(input_shape = (None, 1000,3))\n",
    "    model.load_weights(weight)\n",
    "    pcd_input = np.expand_dims(pcd_array, axis=0)\n",
    "    predicted_array = model.predict(pcd_input)\n",
    "    output = predicted_array[0]\n",
    "    print(output.shape)\n",
    "    pcd_output = o3d.geometry.PointCloud()\n",
    "    pcd_output.points = o3d.utility.Vector3dVector(output)\n",
    "    o3d.io.write_point_cloud(\"output.ply\", pcd_output)\n",
    "  \n",
    "    tetra_mesh, pt_map = o3d.geometry.TetraMesh.create_from_point_cloud(pcd_output)\n",
    "    rec_mesh = o3d.geometry.TriangleMesh.create_from_point_cloud_alpha_shape(\n",
    "        pcd_output, 0.038, tetra_mesh, pt_map)\n",
    "    o3d.io.write_triangle_mesh(\"outputfile.obj\", rec_mesh)\n",
    "    \n",
    "    return pcd_output, rec_mesh"
   ]
  },
  {
   "cell_type": "code",
   "execution_count": null,
   "metadata": {},
   "outputs": [],
   "source": [
    "inference_file = 'incompletePart.obj' # incomplete .obj file to complete\n",
    "weight = 'modelSaved' # saved file of the trained model\n",
    "model = model"
   ]
  },
  {
   "cell_type": "code",
   "execution_count": null,
   "metadata": {},
   "outputs": [],
   "source": [
    "output_pointcloud, output_mesh = inferr(model, weight, inference_file)"
   ]
  },
  {
   "cell_type": "code",
   "execution_count": null,
   "metadata": {},
   "outputs": [],
   "source": [
    "def visualize_object(mesh_obj):\n",
    "    o3d.visualization.draw_geometries([any_object])"
   ]
  },
  {
   "cell_type": "code",
   "execution_count": null,
   "metadata": {},
   "outputs": [],
   "source": [
    "# visualize mesh\n",
    "visualize_object(output_mesh)"
   ]
  },
  {
   "cell_type": "code",
   "execution_count": null,
   "metadata": {},
   "outputs": [],
   "source": [
    "# visualize point cloud\n",
    "visualize_object(output_pointcloud)"
   ]
  }
 ],
 "metadata": {
  "kernelspec": {
   "display_name": "Python 3",
   "language": "python",
   "name": "python3"
  },
  "language_info": {
   "codemirror_mode": {
    "name": "ipython",
    "version": 3
   },
   "file_extension": ".py",
   "mimetype": "text/x-python",
   "name": "python",
   "nbconvert_exporter": "python",
   "pygments_lexer": "ipython3",
   "version": "3.8.5"
  }
 },
 "nbformat": 4,
 "nbformat_minor": 4
}
